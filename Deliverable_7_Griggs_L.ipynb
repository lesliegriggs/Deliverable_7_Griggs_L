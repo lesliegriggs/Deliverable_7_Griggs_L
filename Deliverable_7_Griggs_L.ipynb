{
  "nbformat": 4,
  "nbformat_minor": 0,
  "metadata": {
    "colab": {
      "provenance": []
    },
    "kernelspec": {
      "name": "python3",
      "display_name": "Python 3"
    },
    "language_info": {
      "name": "python"
    }
  },
  "cells": [
    {
      "cell_type": "code",
      "source": [
        "import random\n",
        "\n",
        "def method1(userInput, array):\n",
        "  for i in range(0, userInput):\n",
        "    array.append(random.randint(10, 50))\n",
        "\n",
        "  print(\"Array: \", array)\n",
        "\n",
        "def method2(userInput):\n",
        "  result = int(0)\n",
        "  for i in range(0, userInput):\n",
        "    result = result + array[i]\n",
        "\n",
        "  print(\"Summation of Array: \", result)\n",
        "\n",
        "\n",
        "userInput = int(0)\n",
        "programRun = int(0)\n",
        "array = []\n",
        "\n",
        "while programRun < 1:\n",
        "  userInput = int(input(\"Please enter an integer between 5 and 15: \"))\n",
        "\n",
        "  if 5 <= userInput <= 15:\n",
        "    print(\"Accepted\")\n",
        "    programRun = 1\n",
        "\n",
        "  else:\n",
        "    print(\"You must enter an integer between 5 and 15. Try again\")\n",
        "\n",
        "method1(userInput, array)\n",
        "method2(userInput)"
      ],
      "metadata": {
        "colab": {
          "base_uri": "https://localhost:8080/"
        },
        "id": "i3hpRd8_TJ6b",
        "outputId": "b32466a5-a4d9-4991-9ad2-447991343f50"
      },
      "execution_count": 16,
      "outputs": [
        {
          "output_type": "stream",
          "name": "stdout",
          "text": [
            "Please enter an integer between 5 and 15: 13\n",
            "Accepted\n",
            "Array:  [47, 10, 17, 27, 38, 12, 29, 40, 37, 26, 18, 23, 35]\n",
            "Summation of Array:  359\n"
          ]
        }
      ]
    },
    {
      "cell_type": "code",
      "source": [],
      "metadata": {
        "id": "z0oWJrv8TX_-"
      },
      "execution_count": null,
      "outputs": []
    }
  ]
}